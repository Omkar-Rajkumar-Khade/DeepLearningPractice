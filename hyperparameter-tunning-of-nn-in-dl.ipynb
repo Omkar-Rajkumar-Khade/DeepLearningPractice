{
 "cells": [
  {
   "cell_type": "code",
   "execution_count": 1,
   "id": "c19b4e14",
   "metadata": {
    "_cell_guid": "b1076dfc-b9ad-4769-8c92-a6c4dae69d19",
    "_uuid": "8f2839f25d086af736a60e9eeb907d3b93b6e0e5",
    "execution": {
     "iopub.execute_input": "2023-06-25T04:52:09.155536Z",
     "iopub.status.busy": "2023-06-25T04:52:09.154766Z",
     "iopub.status.idle": "2023-06-25T04:52:09.175831Z",
     "shell.execute_reply": "2023-06-25T04:52:09.174737Z"
    },
    "papermill": {
     "duration": 0.041729,
     "end_time": "2023-06-25T04:52:09.179018",
     "exception": false,
     "start_time": "2023-06-25T04:52:09.137289",
     "status": "completed"
    },
    "tags": []
   },
   "outputs": [
    {
     "name": "stdout",
     "output_type": "stream",
     "text": [
      "/kaggle/input/pima-indians-diabetes-database/diabetes.csv\n"
     ]
    }
   ],
   "source": [
    "# This Python 3 environment comes with many helpful analytics libraries installed\n",
    "# It is defined by the kaggle/python Docker image: https://github.com/kaggle/docker-python\n",
    "# For example, here's several helpful packages to load\n",
    "\n",
    "import numpy as np # linear algebra\n",
    "import pandas as pd # data processing, CSV file I/O (e.g. pd.read_csv)\n",
    "\n",
    "# Input data files are available in the read-only \"../input/\" directory\n",
    "# For example, running this (by clicking run or pressing Shift+Enter) will list all files under the input directory\n",
    "\n",
    "import os\n",
    "for dirname, _, filenames in os.walk('/kaggle/input'):\n",
    "    for filename in filenames:\n",
    "        print(os.path.join(dirname, filename))\n",
    "\n",
    "# You can write up to 20GB to the current directory (/kaggle/working/) that gets preserved as output when you create a version using \"Save & Run All\" \n",
    "# You can also write temporary files to /kaggle/temp/, but they won't be saved outside of the current session"
   ]
  },
  {
   "cell_type": "code",
   "execution_count": 2,
   "id": "a3a02088",
   "metadata": {
    "execution": {
     "iopub.execute_input": "2023-06-25T04:52:09.212546Z",
     "iopub.status.busy": "2023-06-25T04:52:09.211740Z",
     "iopub.status.idle": "2023-06-25T04:52:09.268002Z",
     "shell.execute_reply": "2023-06-25T04:52:09.267087Z"
    },
    "papermill": {
     "duration": 0.075454,
     "end_time": "2023-06-25T04:52:09.270480",
     "exception": false,
     "start_time": "2023-06-25T04:52:09.195026",
     "status": "completed"
    },
    "tags": []
   },
   "outputs": [
    {
     "data": {
      "text/html": [
       "<div>\n",
       "<style scoped>\n",
       "    .dataframe tbody tr th:only-of-type {\n",
       "        vertical-align: middle;\n",
       "    }\n",
       "\n",
       "    .dataframe tbody tr th {\n",
       "        vertical-align: top;\n",
       "    }\n",
       "\n",
       "    .dataframe thead th {\n",
       "        text-align: right;\n",
       "    }\n",
       "</style>\n",
       "<table border=\"1\" class=\"dataframe\">\n",
       "  <thead>\n",
       "    <tr style=\"text-align: right;\">\n",
       "      <th></th>\n",
       "      <th>Pregnancies</th>\n",
       "      <th>Glucose</th>\n",
       "      <th>BloodPressure</th>\n",
       "      <th>SkinThickness</th>\n",
       "      <th>Insulin</th>\n",
       "      <th>BMI</th>\n",
       "      <th>DiabetesPedigreeFunction</th>\n",
       "      <th>Age</th>\n",
       "      <th>Outcome</th>\n",
       "    </tr>\n",
       "  </thead>\n",
       "  <tbody>\n",
       "    <tr>\n",
       "      <th>0</th>\n",
       "      <td>6</td>\n",
       "      <td>148</td>\n",
       "      <td>72</td>\n",
       "      <td>35</td>\n",
       "      <td>0</td>\n",
       "      <td>33.6</td>\n",
       "      <td>0.627</td>\n",
       "      <td>50</td>\n",
       "      <td>1</td>\n",
       "    </tr>\n",
       "    <tr>\n",
       "      <th>1</th>\n",
       "      <td>1</td>\n",
       "      <td>85</td>\n",
       "      <td>66</td>\n",
       "      <td>29</td>\n",
       "      <td>0</td>\n",
       "      <td>26.6</td>\n",
       "      <td>0.351</td>\n",
       "      <td>31</td>\n",
       "      <td>0</td>\n",
       "    </tr>\n",
       "    <tr>\n",
       "      <th>2</th>\n",
       "      <td>8</td>\n",
       "      <td>183</td>\n",
       "      <td>64</td>\n",
       "      <td>0</td>\n",
       "      <td>0</td>\n",
       "      <td>23.3</td>\n",
       "      <td>0.672</td>\n",
       "      <td>32</td>\n",
       "      <td>1</td>\n",
       "    </tr>\n",
       "    <tr>\n",
       "      <th>3</th>\n",
       "      <td>1</td>\n",
       "      <td>89</td>\n",
       "      <td>66</td>\n",
       "      <td>23</td>\n",
       "      <td>94</td>\n",
       "      <td>28.1</td>\n",
       "      <td>0.167</td>\n",
       "      <td>21</td>\n",
       "      <td>0</td>\n",
       "    </tr>\n",
       "    <tr>\n",
       "      <th>4</th>\n",
       "      <td>0</td>\n",
       "      <td>137</td>\n",
       "      <td>40</td>\n",
       "      <td>35</td>\n",
       "      <td>168</td>\n",
       "      <td>43.1</td>\n",
       "      <td>2.288</td>\n",
       "      <td>33</td>\n",
       "      <td>1</td>\n",
       "    </tr>\n",
       "  </tbody>\n",
       "</table>\n",
       "</div>"
      ],
      "text/plain": [
       "   Pregnancies  Glucose  BloodPressure  SkinThickness  Insulin   BMI  \\\n",
       "0            6      148             72             35        0  33.6   \n",
       "1            1       85             66             29        0  26.6   \n",
       "2            8      183             64              0        0  23.3   \n",
       "3            1       89             66             23       94  28.1   \n",
       "4            0      137             40             35      168  43.1   \n",
       "\n",
       "   DiabetesPedigreeFunction  Age  Outcome  \n",
       "0                     0.627   50        1  \n",
       "1                     0.351   31        0  \n",
       "2                     0.672   32        1  \n",
       "3                     0.167   21        0  \n",
       "4                     2.288   33        1  "
      ]
     },
     "execution_count": 2,
     "metadata": {},
     "output_type": "execute_result"
    }
   ],
   "source": [
    "df =pd.read_csv(\"/kaggle/input/pima-indians-diabetes-database/diabetes.csv\")\n",
    "df.head()"
   ]
  },
  {
   "cell_type": "code",
   "execution_count": 3,
   "id": "38658132",
   "metadata": {
    "execution": {
     "iopub.execute_input": "2023-06-25T04:52:09.304636Z",
     "iopub.status.busy": "2023-06-25T04:52:09.303916Z",
     "iopub.status.idle": "2023-06-25T04:52:09.309585Z",
     "shell.execute_reply": "2023-06-25T04:52:09.308837Z"
    },
    "papermill": {
     "duration": 0.025,
     "end_time": "2023-06-25T04:52:09.311614",
     "exception": false,
     "start_time": "2023-06-25T04:52:09.286614",
     "status": "completed"
    },
    "tags": []
   },
   "outputs": [
    {
     "data": {
      "text/plain": [
       "(768, 9)"
      ]
     },
     "execution_count": 3,
     "metadata": {},
     "output_type": "execute_result"
    }
   ],
   "source": [
    "df.shape"
   ]
  },
  {
   "cell_type": "code",
   "execution_count": 4,
   "id": "559b688e",
   "metadata": {
    "execution": {
     "iopub.execute_input": "2023-06-25T04:52:09.344249Z",
     "iopub.status.busy": "2023-06-25T04:52:09.343519Z",
     "iopub.status.idle": "2023-06-25T04:52:09.356807Z",
     "shell.execute_reply": "2023-06-25T04:52:09.355611Z"
    },
    "papermill": {
     "duration": 0.032348,
     "end_time": "2023-06-25T04:52:09.359300",
     "exception": false,
     "start_time": "2023-06-25T04:52:09.326952",
     "status": "completed"
    },
    "tags": []
   },
   "outputs": [
    {
     "data": {
      "text/plain": [
       "Pregnancies                 0.221898\n",
       "Glucose                     0.466581\n",
       "BloodPressure               0.065068\n",
       "SkinThickness               0.074752\n",
       "Insulin                     0.130548\n",
       "BMI                         0.292695\n",
       "DiabetesPedigreeFunction    0.173844\n",
       "Age                         0.238356\n",
       "Outcome                     1.000000\n",
       "Name: Outcome, dtype: float64"
      ]
     },
     "execution_count": 4,
     "metadata": {},
     "output_type": "execute_result"
    }
   ],
   "source": [
    "df.corr()['Outcome']"
   ]
  },
  {
   "cell_type": "code",
   "execution_count": 5,
   "id": "2bdc3c12",
   "metadata": {
    "execution": {
     "iopub.execute_input": "2023-06-25T04:52:09.393392Z",
     "iopub.status.busy": "2023-06-25T04:52:09.392602Z",
     "iopub.status.idle": "2023-06-25T04:52:09.398561Z",
     "shell.execute_reply": "2023-06-25T04:52:09.397855Z"
    },
    "papermill": {
     "duration": 0.025802,
     "end_time": "2023-06-25T04:52:09.400863",
     "exception": false,
     "start_time": "2023-06-25T04:52:09.375061",
     "status": "completed"
    },
    "tags": []
   },
   "outputs": [],
   "source": [
    "X=df.iloc[:,:-1].values\n",
    "y=df.iloc[:,-1].values"
   ]
  },
  {
   "cell_type": "markdown",
   "id": "cf254c3d",
   "metadata": {
    "papermill": {
     "duration": 0.015745,
     "end_time": "2023-06-25T04:52:09.432584",
     "exception": false,
     "start_time": "2023-06-25T04:52:09.416839",
     "status": "completed"
    },
    "tags": []
   },
   "source": [
    "## Scale Data First"
   ]
  },
  {
   "cell_type": "code",
   "execution_count": 6,
   "id": "014b6633",
   "metadata": {
    "execution": {
     "iopub.execute_input": "2023-06-25T04:52:09.465232Z",
     "iopub.status.busy": "2023-06-25T04:52:09.464839Z",
     "iopub.status.idle": "2023-06-25T04:52:10.826517Z",
     "shell.execute_reply": "2023-06-25T04:52:10.825393Z"
    },
    "papermill": {
     "duration": 1.381276,
     "end_time": "2023-06-25T04:52:10.829369",
     "exception": false,
     "start_time": "2023-06-25T04:52:09.448093",
     "status": "completed"
    },
    "tags": []
   },
   "outputs": [],
   "source": [
    "from sklearn.preprocessing import StandardScaler\n",
    "scaler =StandardScaler()"
   ]
  },
  {
   "cell_type": "code",
   "execution_count": 7,
   "id": "594fc38a",
   "metadata": {
    "execution": {
     "iopub.execute_input": "2023-06-25T04:52:10.862829Z",
     "iopub.status.busy": "2023-06-25T04:52:10.862183Z",
     "iopub.status.idle": "2023-06-25T04:52:10.869583Z",
     "shell.execute_reply": "2023-06-25T04:52:10.868712Z"
    },
    "papermill": {
     "duration": 0.027105,
     "end_time": "2023-06-25T04:52:10.871972",
     "exception": false,
     "start_time": "2023-06-25T04:52:10.844867",
     "status": "completed"
    },
    "tags": []
   },
   "outputs": [],
   "source": [
    "X=scaler.fit_transform(X)"
   ]
  },
  {
   "cell_type": "code",
   "execution_count": 8,
   "id": "4ccecce0",
   "metadata": {
    "execution": {
     "iopub.execute_input": "2023-06-25T04:52:10.906737Z",
     "iopub.status.busy": "2023-06-25T04:52:10.906335Z",
     "iopub.status.idle": "2023-06-25T04:52:10.913412Z",
     "shell.execute_reply": "2023-06-25T04:52:10.912276Z"
    },
    "papermill": {
     "duration": 0.026861,
     "end_time": "2023-06-25T04:52:10.915764",
     "exception": false,
     "start_time": "2023-06-25T04:52:10.888903",
     "status": "completed"
    },
    "tags": []
   },
   "outputs": [
    {
     "data": {
      "text/plain": [
       "array([[ 0.63994726,  0.84832379,  0.14964075, ...,  0.20401277,\n",
       "         0.46849198,  1.4259954 ],\n",
       "       [-0.84488505, -1.12339636, -0.16054575, ..., -0.68442195,\n",
       "        -0.36506078, -0.19067191],\n",
       "       [ 1.23388019,  1.94372388, -0.26394125, ..., -1.10325546,\n",
       "         0.60439732, -0.10558415],\n",
       "       ...,\n",
       "       [ 0.3429808 ,  0.00330087,  0.14964075, ..., -0.73518964,\n",
       "        -0.68519336, -0.27575966],\n",
       "       [-0.84488505,  0.1597866 , -0.47073225, ..., -0.24020459,\n",
       "        -0.37110101,  1.17073215],\n",
       "       [-0.84488505, -0.8730192 ,  0.04624525, ..., -0.20212881,\n",
       "        -0.47378505, -0.87137393]])"
      ]
     },
     "execution_count": 8,
     "metadata": {},
     "output_type": "execute_result"
    }
   ],
   "source": [
    "X"
   ]
  },
  {
   "cell_type": "code",
   "execution_count": 9,
   "id": "ce29014b",
   "metadata": {
    "execution": {
     "iopub.execute_input": "2023-06-25T04:52:10.948885Z",
     "iopub.status.busy": "2023-06-25T04:52:10.948490Z",
     "iopub.status.idle": "2023-06-25T04:52:11.062336Z",
     "shell.execute_reply": "2023-06-25T04:52:11.061394Z"
    },
    "papermill": {
     "duration": 0.13381,
     "end_time": "2023-06-25T04:52:11.065199",
     "exception": false,
     "start_time": "2023-06-25T04:52:10.931389",
     "status": "completed"
    },
    "tags": []
   },
   "outputs": [],
   "source": [
    "from sklearn.model_selection import train_test_split\n",
    "X_train,X_test,y_train,y_test=train_test_split(X,y,test_size=0.2,random_state=1)"
   ]
  },
  {
   "cell_type": "code",
   "execution_count": 10,
   "id": "e19b2d34",
   "metadata": {
    "execution": {
     "iopub.execute_input": "2023-06-25T04:52:11.098525Z",
     "iopub.status.busy": "2023-06-25T04:52:11.098148Z",
     "iopub.status.idle": "2023-06-25T04:52:20.425479Z",
     "shell.execute_reply": "2023-06-25T04:52:20.424246Z"
    },
    "papermill": {
     "duration": 9.347186,
     "end_time": "2023-06-25T04:52:20.428343",
     "exception": false,
     "start_time": "2023-06-25T04:52:11.081157",
     "status": "completed"
    },
    "tags": []
   },
   "outputs": [
    {
     "name": "stderr",
     "output_type": "stream",
     "text": [
      "/opt/conda/lib/python3.10/site-packages/tensorflow_io/python/ops/__init__.py:98: UserWarning: unable to load libtensorflow_io_plugins.so: unable to open file: libtensorflow_io_plugins.so, from paths: ['/opt/conda/lib/python3.10/site-packages/tensorflow_io/python/ops/libtensorflow_io_plugins.so']\n",
      "caused by: ['/opt/conda/lib/python3.10/site-packages/tensorflow_io/python/ops/libtensorflow_io_plugins.so: undefined symbol: _ZN3tsl6StatusC1EN10tensorflow5error4CodeESt17basic_string_viewIcSt11char_traitsIcEENS_14SourceLocationE']\n",
      "  warnings.warn(f\"unable to load libtensorflow_io_plugins.so: {e}\")\n",
      "/opt/conda/lib/python3.10/site-packages/tensorflow_io/python/ops/__init__.py:104: UserWarning: file system plugins are not loaded: unable to open file: libtensorflow_io.so, from paths: ['/opt/conda/lib/python3.10/site-packages/tensorflow_io/python/ops/libtensorflow_io.so']\n",
      "caused by: ['/opt/conda/lib/python3.10/site-packages/tensorflow_io/python/ops/libtensorflow_io.so: undefined symbol: _ZTVN10tensorflow13GcsFileSystemE']\n",
      "  warnings.warn(f\"file system plugins are not loaded: {e}\")\n"
     ]
    }
   ],
   "source": [
    "import tensorflow\n",
    "from tensorflow import keras\n",
    "from keras import Sequential\n",
    "from keras.layers import Dense,Dropout"
   ]
  },
  {
   "cell_type": "markdown",
   "id": "1650de3c",
   "metadata": {
    "papermill": {
     "duration": 0.015848,
     "end_time": "2023-06-25T04:52:20.462065",
     "exception": false,
     "start_time": "2023-06-25T04:52:20.446217",
     "status": "completed"
    },
    "tags": []
   },
   "source": [
    "## Train first Version on Model"
   ]
  },
  {
   "cell_type": "code",
   "execution_count": 11,
   "id": "420bc8f7",
   "metadata": {
    "execution": {
     "iopub.execute_input": "2023-06-25T04:52:20.495552Z",
     "iopub.status.busy": "2023-06-25T04:52:20.494790Z",
     "iopub.status.idle": "2023-06-25T04:52:20.689123Z",
     "shell.execute_reply": "2023-06-25T04:52:20.688188Z"
    },
    "papermill": {
     "duration": 0.214164,
     "end_time": "2023-06-25T04:52:20.691862",
     "exception": false,
     "start_time": "2023-06-25T04:52:20.477698",
     "status": "completed"
    },
    "tags": []
   },
   "outputs": [],
   "source": [
    "model=Sequential()\n",
    "#hidden layer\n",
    "model.add(Dense(32,activation='relu',input_dim=8))\n",
    "#output layer\n",
    "model.add(Dense(1,activation='sigmoid'))\n",
    "\n",
    "model.compile(optimizer='Adam',loss='binary_crossentropy',metrics=['accuracy'])"
   ]
  },
  {
   "cell_type": "code",
   "execution_count": 12,
   "id": "6e91562e",
   "metadata": {
    "execution": {
     "iopub.execute_input": "2023-06-25T04:52:20.725386Z",
     "iopub.status.busy": "2023-06-25T04:52:20.725007Z",
     "iopub.status.idle": "2023-06-25T04:52:20.742628Z",
     "shell.execute_reply": "2023-06-25T04:52:20.741735Z"
    },
    "papermill": {
     "duration": 0.041726,
     "end_time": "2023-06-25T04:52:20.749410",
     "exception": false,
     "start_time": "2023-06-25T04:52:20.707684",
     "status": "completed"
    },
    "tags": []
   },
   "outputs": [
    {
     "name": "stdout",
     "output_type": "stream",
     "text": [
      "Model: \"sequential\"\n",
      "_________________________________________________________________\n",
      " Layer (type)                Output Shape              Param #   \n",
      "=================================================================\n",
      " dense (Dense)               (None, 32)                288       \n",
      "                                                                 \n",
      " dense_1 (Dense)             (None, 1)                 33        \n",
      "                                                                 \n",
      "=================================================================\n",
      "Total params: 321\n",
      "Trainable params: 321\n",
      "Non-trainable params: 0\n",
      "_________________________________________________________________\n"
     ]
    }
   ],
   "source": [
    "model.summary()"
   ]
  },
  {
   "cell_type": "code",
   "execution_count": 13,
   "id": "b7ec4dde",
   "metadata": {
    "execution": {
     "iopub.execute_input": "2023-06-25T04:52:20.784940Z",
     "iopub.status.busy": "2023-06-25T04:52:20.784301Z",
     "iopub.status.idle": "2023-06-25T04:52:29.816054Z",
     "shell.execute_reply": "2023-06-25T04:52:29.814851Z"
    },
    "papermill": {
     "duration": 9.052727,
     "end_time": "2023-06-25T04:52:29.818921",
     "exception": false,
     "start_time": "2023-06-25T04:52:20.766194",
     "status": "completed"
    },
    "tags": []
   },
   "outputs": [
    {
     "name": "stdout",
     "output_type": "stream",
     "text": [
      "Epoch 1/100\n",
      "20/20 [==============================] - 1s 16ms/step - loss: 0.6355 - accuracy: 0.6564 - val_loss: 0.5972 - val_accuracy: 0.7338\n",
      "Epoch 2/100\n",
      "20/20 [==============================] - 0s 3ms/step - loss: 0.5885 - accuracy: 0.7313 - val_loss: 0.5587 - val_accuracy: 0.7468\n",
      "Epoch 3/100\n",
      "20/20 [==============================] - 0s 3ms/step - loss: 0.5579 - accuracy: 0.7345 - val_loss: 0.5313 - val_accuracy: 0.7597\n",
      "Epoch 4/100\n",
      "20/20 [==============================] - 0s 4ms/step - loss: 0.5362 - accuracy: 0.7508 - val_loss: 0.5134 - val_accuracy: 0.7857\n",
      "Epoch 5/100\n",
      "20/20 [==============================] - 0s 3ms/step - loss: 0.5215 - accuracy: 0.7508 - val_loss: 0.4974 - val_accuracy: 0.7987\n",
      "Epoch 6/100\n",
      "20/20 [==============================] - 0s 4ms/step - loss: 0.5093 - accuracy: 0.7590 - val_loss: 0.4888 - val_accuracy: 0.7922\n",
      "Epoch 7/100\n",
      "20/20 [==============================] - 0s 4ms/step - loss: 0.4999 - accuracy: 0.7541 - val_loss: 0.4801 - val_accuracy: 0.7922\n",
      "Epoch 8/100\n",
      "20/20 [==============================] - 0s 4ms/step - loss: 0.4924 - accuracy: 0.7622 - val_loss: 0.4732 - val_accuracy: 0.7922\n",
      "Epoch 9/100\n",
      "20/20 [==============================] - 0s 4ms/step - loss: 0.4857 - accuracy: 0.7622 - val_loss: 0.4686 - val_accuracy: 0.8117\n",
      "Epoch 10/100\n",
      "20/20 [==============================] - 0s 4ms/step - loss: 0.4806 - accuracy: 0.7655 - val_loss: 0.4653 - val_accuracy: 0.8117\n",
      "Epoch 11/100\n",
      "20/20 [==============================] - 0s 4ms/step - loss: 0.4764 - accuracy: 0.7720 - val_loss: 0.4623 - val_accuracy: 0.8052\n",
      "Epoch 12/100\n",
      "20/20 [==============================] - 0s 4ms/step - loss: 0.4730 - accuracy: 0.7720 - val_loss: 0.4593 - val_accuracy: 0.8052\n",
      "Epoch 13/100\n",
      "20/20 [==============================] - 0s 4ms/step - loss: 0.4694 - accuracy: 0.7671 - val_loss: 0.4574 - val_accuracy: 0.8052\n",
      "Epoch 14/100\n",
      "20/20 [==============================] - 0s 4ms/step - loss: 0.4670 - accuracy: 0.7671 - val_loss: 0.4565 - val_accuracy: 0.7987\n",
      "Epoch 15/100\n",
      "20/20 [==============================] - 0s 3ms/step - loss: 0.4650 - accuracy: 0.7720 - val_loss: 0.4545 - val_accuracy: 0.8052\n",
      "Epoch 16/100\n",
      "20/20 [==============================] - 0s 3ms/step - loss: 0.4624 - accuracy: 0.7736 - val_loss: 0.4551 - val_accuracy: 0.8052\n",
      "Epoch 17/100\n",
      "20/20 [==============================] - 0s 3ms/step - loss: 0.4607 - accuracy: 0.7752 - val_loss: 0.4552 - val_accuracy: 0.8117\n",
      "Epoch 18/100\n",
      "20/20 [==============================] - 0s 3ms/step - loss: 0.4591 - accuracy: 0.7736 - val_loss: 0.4539 - val_accuracy: 0.8052\n",
      "Epoch 19/100\n",
      "20/20 [==============================] - 0s 3ms/step - loss: 0.4581 - accuracy: 0.7704 - val_loss: 0.4547 - val_accuracy: 0.8052\n",
      "Epoch 20/100\n",
      "20/20 [==============================] - 0s 4ms/step - loss: 0.4565 - accuracy: 0.7736 - val_loss: 0.4534 - val_accuracy: 0.8052\n",
      "Epoch 21/100\n",
      "20/20 [==============================] - 0s 4ms/step - loss: 0.4550 - accuracy: 0.7769 - val_loss: 0.4541 - val_accuracy: 0.8052\n",
      "Epoch 22/100\n",
      "20/20 [==============================] - 0s 4ms/step - loss: 0.4543 - accuracy: 0.7752 - val_loss: 0.4550 - val_accuracy: 0.8052\n",
      "Epoch 23/100\n",
      "20/20 [==============================] - 0s 3ms/step - loss: 0.4530 - accuracy: 0.7801 - val_loss: 0.4550 - val_accuracy: 0.8052\n",
      "Epoch 24/100\n",
      "20/20 [==============================] - 0s 4ms/step - loss: 0.4520 - accuracy: 0.7785 - val_loss: 0.4547 - val_accuracy: 0.8052\n",
      "Epoch 25/100\n",
      "20/20 [==============================] - 0s 4ms/step - loss: 0.4509 - accuracy: 0.7769 - val_loss: 0.4549 - val_accuracy: 0.8117\n",
      "Epoch 26/100\n",
      "20/20 [==============================] - 0s 4ms/step - loss: 0.4507 - accuracy: 0.7704 - val_loss: 0.4540 - val_accuracy: 0.8117\n",
      "Epoch 27/100\n",
      "20/20 [==============================] - 0s 3ms/step - loss: 0.4495 - accuracy: 0.7736 - val_loss: 0.4547 - val_accuracy: 0.8117\n",
      "Epoch 28/100\n",
      "20/20 [==============================] - 0s 3ms/step - loss: 0.4486 - accuracy: 0.7736 - val_loss: 0.4559 - val_accuracy: 0.8117\n",
      "Epoch 29/100\n",
      "20/20 [==============================] - 0s 3ms/step - loss: 0.4483 - accuracy: 0.7752 - val_loss: 0.4575 - val_accuracy: 0.8117\n",
      "Epoch 30/100\n",
      "20/20 [==============================] - 0s 3ms/step - loss: 0.4478 - accuracy: 0.7834 - val_loss: 0.4571 - val_accuracy: 0.8117\n",
      "Epoch 31/100\n",
      "20/20 [==============================] - 0s 3ms/step - loss: 0.4468 - accuracy: 0.7785 - val_loss: 0.4573 - val_accuracy: 0.8182\n",
      "Epoch 32/100\n",
      "20/20 [==============================] - 0s 3ms/step - loss: 0.4460 - accuracy: 0.7818 - val_loss: 0.4562 - val_accuracy: 0.8117\n",
      "Epoch 33/100\n",
      "20/20 [==============================] - 0s 4ms/step - loss: 0.4458 - accuracy: 0.7801 - val_loss: 0.4560 - val_accuracy: 0.8117\n",
      "Epoch 34/100\n",
      "20/20 [==============================] - 0s 4ms/step - loss: 0.4448 - accuracy: 0.7818 - val_loss: 0.4582 - val_accuracy: 0.8117\n",
      "Epoch 35/100\n",
      "20/20 [==============================] - 0s 4ms/step - loss: 0.4441 - accuracy: 0.7785 - val_loss: 0.4574 - val_accuracy: 0.8117\n",
      "Epoch 36/100\n",
      "20/20 [==============================] - 0s 4ms/step - loss: 0.4432 - accuracy: 0.7801 - val_loss: 0.4574 - val_accuracy: 0.8117\n",
      "Epoch 37/100\n",
      "20/20 [==============================] - 0s 3ms/step - loss: 0.4429 - accuracy: 0.7785 - val_loss: 0.4574 - val_accuracy: 0.8117\n",
      "Epoch 38/100\n",
      "20/20 [==============================] - 0s 4ms/step - loss: 0.4429 - accuracy: 0.7801 - val_loss: 0.4575 - val_accuracy: 0.8182\n",
      "Epoch 39/100\n",
      "20/20 [==============================] - 0s 4ms/step - loss: 0.4422 - accuracy: 0.7818 - val_loss: 0.4579 - val_accuracy: 0.8052\n",
      "Epoch 40/100\n",
      "20/20 [==============================] - 0s 4ms/step - loss: 0.4414 - accuracy: 0.7785 - val_loss: 0.4575 - val_accuracy: 0.8117\n",
      "Epoch 41/100\n",
      "20/20 [==============================] - 0s 3ms/step - loss: 0.4405 - accuracy: 0.7801 - val_loss: 0.4577 - val_accuracy: 0.8117\n",
      "Epoch 42/100\n",
      "20/20 [==============================] - 0s 3ms/step - loss: 0.4399 - accuracy: 0.7818 - val_loss: 0.4578 - val_accuracy: 0.8182\n",
      "Epoch 43/100\n",
      "20/20 [==============================] - 0s 4ms/step - loss: 0.4398 - accuracy: 0.7785 - val_loss: 0.4573 - val_accuracy: 0.8182\n",
      "Epoch 44/100\n",
      "20/20 [==============================] - 0s 4ms/step - loss: 0.4392 - accuracy: 0.7785 - val_loss: 0.4584 - val_accuracy: 0.8117\n",
      "Epoch 45/100\n",
      "20/20 [==============================] - 0s 4ms/step - loss: 0.4385 - accuracy: 0.7752 - val_loss: 0.4587 - val_accuracy: 0.8117\n",
      "Epoch 46/100\n",
      "20/20 [==============================] - 0s 4ms/step - loss: 0.4382 - accuracy: 0.7785 - val_loss: 0.4594 - val_accuracy: 0.8117\n",
      "Epoch 47/100\n",
      "20/20 [==============================] - 0s 4ms/step - loss: 0.4378 - accuracy: 0.7818 - val_loss: 0.4591 - val_accuracy: 0.8117\n",
      "Epoch 48/100\n",
      "20/20 [==============================] - 0s 4ms/step - loss: 0.4373 - accuracy: 0.7785 - val_loss: 0.4588 - val_accuracy: 0.8247\n",
      "Epoch 49/100\n",
      "20/20 [==============================] - 0s 5ms/step - loss: 0.4367 - accuracy: 0.7801 - val_loss: 0.4586 - val_accuracy: 0.8312\n",
      "Epoch 50/100\n",
      "20/20 [==============================] - 0s 4ms/step - loss: 0.4364 - accuracy: 0.7834 - val_loss: 0.4587 - val_accuracy: 0.8247\n",
      "Epoch 51/100\n",
      "20/20 [==============================] - 0s 5ms/step - loss: 0.4364 - accuracy: 0.7801 - val_loss: 0.4592 - val_accuracy: 0.8247\n",
      "Epoch 52/100\n",
      "20/20 [==============================] - 0s 4ms/step - loss: 0.4356 - accuracy: 0.7785 - val_loss: 0.4605 - val_accuracy: 0.8182\n",
      "Epoch 53/100\n",
      "20/20 [==============================] - 0s 4ms/step - loss: 0.4348 - accuracy: 0.7834 - val_loss: 0.4604 - val_accuracy: 0.8117\n",
      "Epoch 54/100\n",
      "20/20 [==============================] - 0s 4ms/step - loss: 0.4341 - accuracy: 0.7801 - val_loss: 0.4603 - val_accuracy: 0.8182\n",
      "Epoch 55/100\n",
      "20/20 [==============================] - 0s 3ms/step - loss: 0.4336 - accuracy: 0.7801 - val_loss: 0.4606 - val_accuracy: 0.8247\n",
      "Epoch 56/100\n",
      "20/20 [==============================] - 0s 3ms/step - loss: 0.4333 - accuracy: 0.7818 - val_loss: 0.4611 - val_accuracy: 0.8182\n",
      "Epoch 57/100\n",
      "20/20 [==============================] - 0s 3ms/step - loss: 0.4330 - accuracy: 0.7834 - val_loss: 0.4616 - val_accuracy: 0.8182\n",
      "Epoch 58/100\n",
      "20/20 [==============================] - 0s 4ms/step - loss: 0.4326 - accuracy: 0.7834 - val_loss: 0.4622 - val_accuracy: 0.8182\n",
      "Epoch 59/100\n",
      "20/20 [==============================] - 0s 4ms/step - loss: 0.4323 - accuracy: 0.7834 - val_loss: 0.4609 - val_accuracy: 0.8247\n",
      "Epoch 60/100\n",
      "20/20 [==============================] - 0s 4ms/step - loss: 0.4322 - accuracy: 0.7818 - val_loss: 0.4606 - val_accuracy: 0.8117\n",
      "Epoch 61/100\n",
      "20/20 [==============================] - 0s 5ms/step - loss: 0.4314 - accuracy: 0.7818 - val_loss: 0.4609 - val_accuracy: 0.8182\n",
      "Epoch 62/100\n",
      "20/20 [==============================] - 0s 4ms/step - loss: 0.4307 - accuracy: 0.7850 - val_loss: 0.4605 - val_accuracy: 0.8182\n",
      "Epoch 63/100\n",
      "20/20 [==============================] - 0s 4ms/step - loss: 0.4305 - accuracy: 0.7850 - val_loss: 0.4611 - val_accuracy: 0.8247\n",
      "Epoch 64/100\n",
      "20/20 [==============================] - 0s 4ms/step - loss: 0.4300 - accuracy: 0.7866 - val_loss: 0.4614 - val_accuracy: 0.8182\n",
      "Epoch 65/100\n",
      "20/20 [==============================] - 0s 4ms/step - loss: 0.4295 - accuracy: 0.7866 - val_loss: 0.4606 - val_accuracy: 0.8247\n",
      "Epoch 66/100\n",
      "20/20 [==============================] - 0s 4ms/step - loss: 0.4291 - accuracy: 0.7866 - val_loss: 0.4609 - val_accuracy: 0.8182\n",
      "Epoch 67/100\n",
      "20/20 [==============================] - 0s 3ms/step - loss: 0.4287 - accuracy: 0.7899 - val_loss: 0.4621 - val_accuracy: 0.8247\n",
      "Epoch 68/100\n",
      "20/20 [==============================] - 0s 3ms/step - loss: 0.4280 - accuracy: 0.7850 - val_loss: 0.4627 - val_accuracy: 0.8247\n",
      "Epoch 69/100\n",
      "20/20 [==============================] - 0s 3ms/step - loss: 0.4280 - accuracy: 0.7834 - val_loss: 0.4624 - val_accuracy: 0.8312\n",
      "Epoch 70/100\n",
      "20/20 [==============================] - 0s 3ms/step - loss: 0.4275 - accuracy: 0.7850 - val_loss: 0.4642 - val_accuracy: 0.8312\n",
      "Epoch 71/100\n",
      "20/20 [==============================] - 0s 3ms/step - loss: 0.4272 - accuracy: 0.7883 - val_loss: 0.4644 - val_accuracy: 0.8182\n",
      "Epoch 72/100\n",
      "20/20 [==============================] - 0s 3ms/step - loss: 0.4268 - accuracy: 0.7866 - val_loss: 0.4639 - val_accuracy: 0.8247\n",
      "Epoch 73/100\n",
      "20/20 [==============================] - 0s 4ms/step - loss: 0.4264 - accuracy: 0.7850 - val_loss: 0.4640 - val_accuracy: 0.8182\n",
      "Epoch 74/100\n",
      "20/20 [==============================] - 0s 4ms/step - loss: 0.4258 - accuracy: 0.7899 - val_loss: 0.4637 - val_accuracy: 0.8247\n",
      "Epoch 75/100\n",
      "20/20 [==============================] - 0s 3ms/step - loss: 0.4255 - accuracy: 0.7883 - val_loss: 0.4636 - val_accuracy: 0.8182\n",
      "Epoch 76/100\n",
      "20/20 [==============================] - 0s 4ms/step - loss: 0.4255 - accuracy: 0.7899 - val_loss: 0.4641 - val_accuracy: 0.8182\n",
      "Epoch 77/100\n",
      "20/20 [==============================] - 0s 4ms/step - loss: 0.4251 - accuracy: 0.7883 - val_loss: 0.4645 - val_accuracy: 0.8182\n",
      "Epoch 78/100\n",
      "20/20 [==============================] - 0s 4ms/step - loss: 0.4246 - accuracy: 0.7915 - val_loss: 0.4636 - val_accuracy: 0.8182\n",
      "Epoch 79/100\n",
      "20/20 [==============================] - 0s 4ms/step - loss: 0.4246 - accuracy: 0.7932 - val_loss: 0.4640 - val_accuracy: 0.8247\n",
      "Epoch 80/100\n",
      "20/20 [==============================] - 0s 4ms/step - loss: 0.4244 - accuracy: 0.7899 - val_loss: 0.4629 - val_accuracy: 0.8312\n",
      "Epoch 81/100\n",
      "20/20 [==============================] - 0s 4ms/step - loss: 0.4236 - accuracy: 0.7932 - val_loss: 0.4640 - val_accuracy: 0.8312\n",
      "Epoch 82/100\n",
      "20/20 [==============================] - 0s 3ms/step - loss: 0.4233 - accuracy: 0.7915 - val_loss: 0.4641 - val_accuracy: 0.8312\n",
      "Epoch 83/100\n",
      "20/20 [==============================] - 0s 3ms/step - loss: 0.4231 - accuracy: 0.7915 - val_loss: 0.4649 - val_accuracy: 0.8312\n",
      "Epoch 84/100\n",
      "20/20 [==============================] - 0s 4ms/step - loss: 0.4225 - accuracy: 0.7932 - val_loss: 0.4646 - val_accuracy: 0.8312\n",
      "Epoch 85/100\n",
      "20/20 [==============================] - 0s 3ms/step - loss: 0.4231 - accuracy: 0.7932 - val_loss: 0.4648 - val_accuracy: 0.8312\n",
      "Epoch 86/100\n",
      "20/20 [==============================] - 0s 3ms/step - loss: 0.4229 - accuracy: 0.7883 - val_loss: 0.4653 - val_accuracy: 0.8312\n",
      "Epoch 87/100\n",
      "20/20 [==============================] - 0s 3ms/step - loss: 0.4216 - accuracy: 0.7899 - val_loss: 0.4654 - val_accuracy: 0.8312\n",
      "Epoch 88/100\n",
      "20/20 [==============================] - 0s 3ms/step - loss: 0.4213 - accuracy: 0.7915 - val_loss: 0.4659 - val_accuracy: 0.8312\n",
      "Epoch 89/100\n",
      "20/20 [==============================] - 0s 4ms/step - loss: 0.4216 - accuracy: 0.7932 - val_loss: 0.4653 - val_accuracy: 0.8247\n",
      "Epoch 90/100\n",
      "20/20 [==============================] - 0s 4ms/step - loss: 0.4211 - accuracy: 0.7899 - val_loss: 0.4647 - val_accuracy: 0.8312\n",
      "Epoch 91/100\n",
      "20/20 [==============================] - 0s 4ms/step - loss: 0.4211 - accuracy: 0.7883 - val_loss: 0.4657 - val_accuracy: 0.8247\n",
      "Epoch 92/100\n",
      "20/20 [==============================] - 0s 4ms/step - loss: 0.4204 - accuracy: 0.7883 - val_loss: 0.4659 - val_accuracy: 0.8247\n",
      "Epoch 93/100\n",
      "20/20 [==============================] - 0s 4ms/step - loss: 0.4201 - accuracy: 0.7948 - val_loss: 0.4658 - val_accuracy: 0.8247\n",
      "Epoch 94/100\n",
      "20/20 [==============================] - 0s 4ms/step - loss: 0.4203 - accuracy: 0.7932 - val_loss: 0.4653 - val_accuracy: 0.8312\n",
      "Epoch 95/100\n",
      "20/20 [==============================] - 0s 4ms/step - loss: 0.4194 - accuracy: 0.7964 - val_loss: 0.4651 - val_accuracy: 0.8247\n",
      "Epoch 96/100\n",
      "20/20 [==============================] - 0s 4ms/step - loss: 0.4191 - accuracy: 0.7948 - val_loss: 0.4650 - val_accuracy: 0.8312\n",
      "Epoch 97/100\n",
      "20/20 [==============================] - 0s 3ms/step - loss: 0.4185 - accuracy: 0.7948 - val_loss: 0.4654 - val_accuracy: 0.8312\n",
      "Epoch 98/100\n",
      "20/20 [==============================] - 0s 4ms/step - loss: 0.4188 - accuracy: 0.7932 - val_loss: 0.4667 - val_accuracy: 0.8312\n",
      "Epoch 99/100\n",
      "20/20 [==============================] - 0s 4ms/step - loss: 0.4189 - accuracy: 0.7997 - val_loss: 0.4666 - val_accuracy: 0.8312\n",
      "Epoch 100/100\n",
      "20/20 [==============================] - 0s 3ms/step - loss: 0.4185 - accuracy: 0.7948 - val_loss: 0.4657 - val_accuracy: 0.8247\n"
     ]
    },
    {
     "data": {
      "text/plain": [
       "<keras.callbacks.History at 0x7a52043df520>"
      ]
     },
     "execution_count": 13,
     "metadata": {},
     "output_type": "execute_result"
    }
   ],
   "source": [
    "model.fit(X_train,y_train,batch_size=32,epochs=100,validation_data=(X_test,y_test))"
   ]
  },
  {
   "cell_type": "markdown",
   "id": "97e8ad3f",
   "metadata": {
    "papermill": {
     "duration": 0.044129,
     "end_time": "2023-06-25T04:52:29.906316",
     "exception": false,
     "start_time": "2023-06-25T04:52:29.862187",
     "status": "completed"
    },
    "tags": []
   },
   "source": [
    "### Plan\n",
    "1. How to select appropriate optimizer\n",
    "2. No of nodes in layer\n",
    "3. How to Select no of layers\n",
    "4. All in one model"
   ]
  },
  {
   "cell_type": "markdown",
   "id": "b0fe13a6",
   "metadata": {
    "papermill": {
     "duration": 0.044785,
     "end_time": "2023-06-25T04:52:29.995585",
     "exception": false,
     "start_time": "2023-06-25T04:52:29.950800",
     "status": "completed"
    },
    "tags": []
   },
   "source": [
    "## How to select appropriate optimizer"
   ]
  },
  {
   "cell_type": "code",
   "execution_count": 14,
   "id": "6514f8fe",
   "metadata": {
    "execution": {
     "iopub.execute_input": "2023-06-25T04:52:30.085562Z",
     "iopub.status.busy": "2023-06-25T04:52:30.084808Z",
     "iopub.status.idle": "2023-06-25T04:52:30.281637Z",
     "shell.execute_reply": "2023-06-25T04:52:30.280532Z"
    },
    "papermill": {
     "duration": 0.245536,
     "end_time": "2023-06-25T04:52:30.285079",
     "exception": false,
     "start_time": "2023-06-25T04:52:30.039543",
     "status": "completed"
    },
    "tags": []
   },
   "outputs": [
    {
     "name": "stderr",
     "output_type": "stream",
     "text": [
      "/tmp/ipykernel_20/1654478174.py:1: DeprecationWarning: `import kerastuner` is deprecated, please use `import keras_tuner`.\n",
      "  import kerastuner as kt\n"
     ]
    }
   ],
   "source": [
    "import kerastuner as kt"
   ]
  },
  {
   "cell_type": "code",
   "execution_count": 15,
   "id": "c5c3201e",
   "metadata": {
    "execution": {
     "iopub.execute_input": "2023-06-25T04:52:30.374843Z",
     "iopub.status.busy": "2023-06-25T04:52:30.374412Z",
     "iopub.status.idle": "2023-06-25T04:52:30.382033Z",
     "shell.execute_reply": "2023-06-25T04:52:30.380767Z"
    },
    "papermill": {
     "duration": 0.056482,
     "end_time": "2023-06-25T04:52:30.384472",
     "exception": false,
     "start_time": "2023-06-25T04:52:30.327990",
     "status": "completed"
    },
    "tags": []
   },
   "outputs": [],
   "source": [
    "#First create first Function\n",
    "def build_model(hp): #hp:hyperparameter\n",
    "    model=Sequential()\n",
    "    #hidden layer\n",
    "    model.add(Dense(32,activation='relu',input_dim=8))\n",
    "    #output layer\n",
    "    model.add(Dense(1,activation='sigmoid'))\n",
    "    #make list of available optimizers\n",
    "    optimizers=hp.Choice('optimizer',values=['adam','sgd','rmsprop','adadelta'])\n",
    "    \n",
    "    model.compile(optimizer=optimizers,loss='binary_crossentropy',metrics=['accuracy'])\n",
    "    return model\n",
    "    "
   ]
  },
  {
   "cell_type": "code",
   "execution_count": 16,
   "id": "fc1843c4",
   "metadata": {
    "execution": {
     "iopub.execute_input": "2023-06-25T04:52:30.472635Z",
     "iopub.status.busy": "2023-06-25T04:52:30.472218Z",
     "iopub.status.idle": "2023-06-25T04:52:30.512695Z",
     "shell.execute_reply": "2023-06-25T04:52:30.511189Z"
    },
    "papermill": {
     "duration": 0.087943,
     "end_time": "2023-06-25T04:52:30.515579",
     "exception": false,
     "start_time": "2023-06-25T04:52:30.427636",
     "status": "completed"
    },
    "tags": []
   },
   "outputs": [],
   "source": [
    "#The code snippet defines a tuner object using Keras Tuner's RandomSearch algorithm to search for the best hyperparameters for a model. \n",
    "#The objective is to maximize validation accuracy, and the tuner will explore up to 5 different combinations of hyperparameters.\n",
    "tuner=kt.RandomSearch(build_model,\n",
    "                     objective='val_accuracy',\n",
    "                     max_trials=5)"
   ]
  },
  {
   "cell_type": "code",
   "execution_count": 17,
   "id": "c59493c1",
   "metadata": {
    "execution": {
     "iopub.execute_input": "2023-06-25T04:52:30.605475Z",
     "iopub.status.busy": "2023-06-25T04:52:30.605062Z",
     "iopub.status.idle": "2023-06-25T04:52:37.257389Z",
     "shell.execute_reply": "2023-06-25T04:52:37.255959Z"
    },
    "papermill": {
     "duration": 6.699766,
     "end_time": "2023-06-25T04:52:37.259703",
     "exception": false,
     "start_time": "2023-06-25T04:52:30.559937",
     "status": "completed"
    },
    "tags": []
   },
   "outputs": [
    {
     "name": "stdout",
     "output_type": "stream",
     "text": [
      "Trial 4 Complete [00h 00m 02s]\n",
      "val_accuracy: 0.701298713684082\n",
      "\n",
      "Best val_accuracy So Far: 0.7727272510528564\n",
      "Total elapsed time: 00h 00m 07s\n"
     ]
    }
   ],
   "source": [
    "#The code performs a hyperparameter search using a tuner on the training data for a maximum of 5 epochs, while validating the model's performance on the test data.\n",
    "tuner.search(X_train,y_train,epochs=5,validation_data=(X_test,y_test))"
   ]
  },
  {
   "cell_type": "code",
   "execution_count": 18,
   "id": "fc2b00c8",
   "metadata": {
    "execution": {
     "iopub.execute_input": "2023-06-25T04:52:37.348635Z",
     "iopub.status.busy": "2023-06-25T04:52:37.347790Z",
     "iopub.status.idle": "2023-06-25T04:52:37.355072Z",
     "shell.execute_reply": "2023-06-25T04:52:37.354009Z"
    },
    "papermill": {
     "duration": 0.053827,
     "end_time": "2023-06-25T04:52:37.357228",
     "exception": false,
     "start_time": "2023-06-25T04:52:37.303401",
     "status": "completed"
    },
    "tags": []
   },
   "outputs": [
    {
     "data": {
      "text/plain": [
       "{'optimizer': 'adam'}"
      ]
     },
     "execution_count": 18,
     "metadata": {},
     "output_type": "execute_result"
    }
   ],
   "source": [
    "tuner.get_best_hyperparameters()[0].values"
   ]
  },
  {
   "cell_type": "code",
   "execution_count": 19,
   "id": "8c75be21",
   "metadata": {
    "execution": {
     "iopub.execute_input": "2023-06-25T04:52:37.446179Z",
     "iopub.status.busy": "2023-06-25T04:52:37.445732Z",
     "iopub.status.idle": "2023-06-25T04:52:37.450895Z",
     "shell.execute_reply": "2023-06-25T04:52:37.449699Z"
    },
    "papermill": {
     "duration": 0.052874,
     "end_time": "2023-06-25T04:52:37.453505",
     "exception": false,
     "start_time": "2023-06-25T04:52:37.400631",
     "status": "completed"
    },
    "tags": []
   },
   "outputs": [],
   "source": [
    "#We got rmsprop as best optimizer"
   ]
  },
  {
   "cell_type": "code",
   "execution_count": 20,
   "id": "d3564f7d",
   "metadata": {
    "execution": {
     "iopub.execute_input": "2023-06-25T04:52:37.542172Z",
     "iopub.status.busy": "2023-06-25T04:52:37.541780Z",
     "iopub.status.idle": "2023-06-25T04:52:37.933675Z",
     "shell.execute_reply": "2023-06-25T04:52:37.932644Z"
    },
    "papermill": {
     "duration": 0.439509,
     "end_time": "2023-06-25T04:52:37.936286",
     "exception": false,
     "start_time": "2023-06-25T04:52:37.496777",
     "status": "completed"
    },
    "tags": []
   },
   "outputs": [],
   "source": [
    "#This code retrieves the best model from a tuner, which likely performs hyperparameter optimization. \n",
    "#The \"num_models=1\" argument specifies that only one model is requested, and \"[0]\" indexes the first (and presumably best) model from the returned list.\n",
    "model=tuner.get_best_models(num_models=1)[0]"
   ]
  },
  {
   "cell_type": "code",
   "execution_count": 21,
   "id": "53d1f631",
   "metadata": {
    "execution": {
     "iopub.execute_input": "2023-06-25T04:52:38.028471Z",
     "iopub.status.busy": "2023-06-25T04:52:38.027317Z",
     "iopub.status.idle": "2023-06-25T04:52:38.046732Z",
     "shell.execute_reply": "2023-06-25T04:52:38.045770Z"
    },
    "papermill": {
     "duration": 0.06877,
     "end_time": "2023-06-25T04:52:38.049365",
     "exception": false,
     "start_time": "2023-06-25T04:52:37.980595",
     "status": "completed"
    },
    "tags": []
   },
   "outputs": [
    {
     "name": "stdout",
     "output_type": "stream",
     "text": [
      "Model: \"sequential\"\n",
      "_________________________________________________________________\n",
      " Layer (type)                Output Shape              Param #   \n",
      "=================================================================\n",
      " dense (Dense)               (None, 32)                288       \n",
      "                                                                 \n",
      " dense_1 (Dense)             (None, 1)                 33        \n",
      "                                                                 \n",
      "=================================================================\n",
      "Total params: 321\n",
      "Trainable params: 321\n",
      "Non-trainable params: 0\n",
      "_________________________________________________________________\n"
     ]
    }
   ],
   "source": [
    "model.summary()"
   ]
  },
  {
   "cell_type": "code",
   "execution_count": 22,
   "id": "ef28952b",
   "metadata": {
    "execution": {
     "iopub.execute_input": "2023-06-25T04:52:38.140476Z",
     "iopub.status.busy": "2023-06-25T04:52:38.140056Z",
     "iopub.status.idle": "2023-06-25T04:52:38.230906Z",
     "shell.execute_reply": "2023-06-25T04:52:38.230013Z"
    },
    "papermill": {
     "duration": 0.139206,
     "end_time": "2023-06-25T04:52:38.233404",
     "exception": false,
     "start_time": "2023-06-25T04:52:38.094198",
     "status": "completed"
    },
    "tags": []
   },
   "outputs": [
    {
     "data": {
      "text/plain": [
       "<keras.callbacks.History at 0x7a51fd72f0a0>"
      ]
     },
     "execution_count": 22,
     "metadata": {},
     "output_type": "execute_result"
    }
   ],
   "source": [
    "#It starts from epoch 6 and validates the model's performance using the test data X_test and y_test\n",
    "model.fit(X_train,y_train,batch_size=32,initial_epoch=6,validation_data=(X_test,y_test))"
   ]
  },
  {
   "cell_type": "markdown",
   "id": "7b1d84cb",
   "metadata": {
    "papermill": {
     "duration": 0.044277,
     "end_time": "2023-06-25T04:52:38.322778",
     "exception": false,
     "start_time": "2023-06-25T04:52:38.278501",
     "status": "completed"
    },
    "tags": []
   },
   "source": [
    "## How to select appropriate No of nodes in layer"
   ]
  },
  {
   "cell_type": "code",
   "execution_count": 23,
   "id": "15fadda0",
   "metadata": {
    "execution": {
     "iopub.execute_input": "2023-06-25T04:52:38.414520Z",
     "iopub.status.busy": "2023-06-25T04:52:38.413879Z",
     "iopub.status.idle": "2023-06-25T04:52:38.421838Z",
     "shell.execute_reply": "2023-06-25T04:52:38.420562Z"
    },
    "papermill": {
     "duration": 0.057365,
     "end_time": "2023-06-25T04:52:38.424649",
     "exception": false,
     "start_time": "2023-06-25T04:52:38.367284",
     "status": "completed"
    },
    "tags": []
   },
   "outputs": [],
   "source": [
    "# Define the function to build the model\n",
    "def build_model2(hp):\n",
    "    # Create a Sequential model\n",
    "    model2 = Sequential()\n",
    "    \n",
    "    # Define the search space for the number of units in the first hidden layer\n",
    "    units = hp.Int('units', min_value=8, max_value=128, step=8) # search max values of neurons is 128 , mininmum value is 8 and steps are 8\n",
    "    \n",
    "    # Add the first hidden layer with the specified number of units and 'relu' activation function\n",
    "    model2.add(Dense(units=units, activation='relu', input_dim=8))\n",
    "    \n",
    "    # Add the output layer with 1 unit and 'sigmoid' activation function\n",
    "    model2.add(Dense(1, activation='sigmoid'))\n",
    "    \n",
    "    # Compile the model with 'rmsprop' optimizer, 'binary_crossentropy' loss function, and 'accuracy' metric\n",
    "    model2.compile(optimizer='rmsprop', loss='binary_crossentropy', metrics=['accuracy'])\n",
    "    \n",
    "    # Return the model\n",
    "    return model2"
   ]
  },
  {
   "cell_type": "code",
   "execution_count": 24,
   "id": "ef2b560f",
   "metadata": {
    "execution": {
     "iopub.execute_input": "2023-06-25T04:52:38.515602Z",
     "iopub.status.busy": "2023-06-25T04:52:38.515193Z",
     "iopub.status.idle": "2023-06-25T04:52:38.563487Z",
     "shell.execute_reply": "2023-06-25T04:52:38.562286Z"
    },
    "papermill": {
     "duration": 0.097123,
     "end_time": "2023-06-25T04:52:38.566281",
     "exception": false,
     "start_time": "2023-06-25T04:52:38.469158",
     "status": "completed"
    },
    "tags": []
   },
   "outputs": [],
   "source": [
    "# Create a RandomSearch tuner\n",
    "tuner2 = kt.RandomSearch(\n",
    "    build_model2,\n",
    "    objective='val_accuracy',  # Define the objective to optimize\n",
    "    max_trials=5,  # Maximum number of hyperparameter combinations to try\n",
    "    directory='mydir',\n",
    "    project_name='no_of_units')"
   ]
  },
  {
   "cell_type": "code",
   "execution_count": 25,
   "id": "b7507f2b",
   "metadata": {
    "execution": {
     "iopub.execute_input": "2023-06-25T04:52:38.657230Z",
     "iopub.status.busy": "2023-06-25T04:52:38.656804Z",
     "iopub.status.idle": "2023-06-25T04:52:46.582516Z",
     "shell.execute_reply": "2023-06-25T04:52:46.581549Z"
    },
    "papermill": {
     "duration": 7.974085,
     "end_time": "2023-06-25T04:52:46.584736",
     "exception": false,
     "start_time": "2023-06-25T04:52:38.610651",
     "status": "completed"
    },
    "tags": []
   },
   "outputs": [
    {
     "name": "stdout",
     "output_type": "stream",
     "text": [
      "Trial 5 Complete [00h 00m 02s]\n",
      "val_accuracy: 0.7207792401313782\n",
      "\n",
      "Best val_accuracy So Far: 0.7857142686843872\n",
      "Total elapsed time: 00h 00m 08s\n"
     ]
    }
   ],
   "source": [
    "tuner2.search(X_train,y_train,epochs=5,validation_data=(X_test,y_test))"
   ]
  },
  {
   "cell_type": "code",
   "execution_count": 26,
   "id": "3593a722",
   "metadata": {
    "execution": {
     "iopub.execute_input": "2023-06-25T04:52:46.676079Z",
     "iopub.status.busy": "2023-06-25T04:52:46.675649Z",
     "iopub.status.idle": "2023-06-25T04:52:46.682770Z",
     "shell.execute_reply": "2023-06-25T04:52:46.681714Z"
    },
    "papermill": {
     "duration": 0.055194,
     "end_time": "2023-06-25T04:52:46.684926",
     "exception": false,
     "start_time": "2023-06-25T04:52:46.629732",
     "status": "completed"
    },
    "tags": []
   },
   "outputs": [
    {
     "data": {
      "text/plain": [
       "{'units': 96}"
      ]
     },
     "execution_count": 26,
     "metadata": {},
     "output_type": "execute_result"
    }
   ],
   "source": [
    "tuner2.get_best_hyperparameters()[0].values"
   ]
  },
  {
   "cell_type": "markdown",
   "id": "cf9dc7fb",
   "metadata": {
    "papermill": {
     "duration": 0.044743,
     "end_time": "2023-06-25T04:52:46.775219",
     "exception": false,
     "start_time": "2023-06-25T04:52:46.730476",
     "status": "completed"
    },
    "tags": []
   },
   "source": [
    "#### In this trail we got best accuracy for 88 neurons or nodes in layer"
   ]
  },
  {
   "cell_type": "code",
   "execution_count": 27,
   "id": "612c483d",
   "metadata": {
    "execution": {
     "iopub.execute_input": "2023-06-25T04:52:46.867726Z",
     "iopub.status.busy": "2023-06-25T04:52:46.867261Z",
     "iopub.status.idle": "2023-06-25T04:52:47.279224Z",
     "shell.execute_reply": "2023-06-25T04:52:47.278176Z"
    },
    "papermill": {
     "duration": 0.462521,
     "end_time": "2023-06-25T04:52:47.282470",
     "exception": false,
     "start_time": "2023-06-25T04:52:46.819949",
     "status": "completed"
    },
    "tags": []
   },
   "outputs": [],
   "source": [
    "model2=tuner2.get_best_models(num_models=1)[0]"
   ]
  },
  {
   "cell_type": "code",
   "execution_count": 28,
   "id": "ca7491c4",
   "metadata": {
    "execution": {
     "iopub.execute_input": "2023-06-25T04:52:47.386574Z",
     "iopub.status.busy": "2023-06-25T04:52:47.386183Z",
     "iopub.status.idle": "2023-06-25T04:52:47.403596Z",
     "shell.execute_reply": "2023-06-25T04:52:47.402744Z"
    },
    "papermill": {
     "duration": 0.078767,
     "end_time": "2023-06-25T04:52:47.413341",
     "exception": false,
     "start_time": "2023-06-25T04:52:47.334574",
     "status": "completed"
    },
    "tags": []
   },
   "outputs": [
    {
     "name": "stdout",
     "output_type": "stream",
     "text": [
      "Model: \"sequential\"\n",
      "_________________________________________________________________\n",
      " Layer (type)                Output Shape              Param #   \n",
      "=================================================================\n",
      " dense (Dense)               (None, 96)                864       \n",
      "                                                                 \n",
      " dense_1 (Dense)             (None, 1)                 97        \n",
      "                                                                 \n",
      "=================================================================\n",
      "Total params: 961\n",
      "Trainable params: 961\n",
      "Non-trainable params: 0\n",
      "_________________________________________________________________\n"
     ]
    }
   ],
   "source": [
    "model2.summary()"
   ]
  },
  {
   "cell_type": "code",
   "execution_count": 29,
   "id": "1aa75571",
   "metadata": {
    "execution": {
     "iopub.execute_input": "2023-06-25T04:52:47.516655Z",
     "iopub.status.busy": "2023-06-25T04:52:47.515707Z",
     "iopub.status.idle": "2023-06-25T04:52:47.610309Z",
     "shell.execute_reply": "2023-06-25T04:52:47.609124Z"
    },
    "papermill": {
     "duration": 0.145256,
     "end_time": "2023-06-25T04:52:47.613314",
     "exception": false,
     "start_time": "2023-06-25T04:52:47.468058",
     "status": "completed"
    },
    "tags": []
   },
   "outputs": [
    {
     "data": {
      "text/plain": [
       "<keras.callbacks.History at 0x7a51fd780520>"
      ]
     },
     "execution_count": 29,
     "metadata": {},
     "output_type": "execute_result"
    }
   ],
   "source": [
    "#It starts from epoch 6 and validates the model's performance using the test data X_test and y_test\n",
    "model2.fit(X_train,y_train,batch_size=32,initial_epoch=6,validation_data=(X_test,y_test))"
   ]
  },
  {
   "cell_type": "markdown",
   "id": "e610534e",
   "metadata": {
    "papermill": {
     "duration": 0.045794,
     "end_time": "2023-06-25T04:52:47.705579",
     "exception": false,
     "start_time": "2023-06-25T04:52:47.659785",
     "status": "completed"
    },
    "tags": []
   },
   "source": [
    "## How to select appropriate No of layers"
   ]
  },
  {
   "cell_type": "code",
   "execution_count": 30,
   "id": "ce6145ee",
   "metadata": {
    "execution": {
     "iopub.execute_input": "2023-06-25T04:52:47.800616Z",
     "iopub.status.busy": "2023-06-25T04:52:47.799475Z",
     "iopub.status.idle": "2023-06-25T04:52:47.806905Z",
     "shell.execute_reply": "2023-06-25T04:52:47.806171Z"
    },
    "papermill": {
     "duration": 0.057006,
     "end_time": "2023-06-25T04:52:47.809090",
     "exception": false,
     "start_time": "2023-06-25T04:52:47.752084",
     "status": "completed"
    },
    "tags": []
   },
   "outputs": [],
   "source": [
    "# Define a function to build a model with hyperparameters\n",
    "def build_model3(hp):\n",
    "    # Create a sequential model\n",
    "    model3 = Sequential()\n",
    "\n",
    "    # Add a variable number of dense layers based on the hyperparameter 'num_layers'\n",
    "    for i in range(hp.Int('num_layers', min_value=1, max_value=10)):\n",
    "        model3.add(Dense(72, activation='relu'))\n",
    "\n",
    "    # Add the final dense layer with sigmoid activation\n",
    "    model3.add(Dense(1, activation='sigmoid'))\n",
    "\n",
    "    # Compile the model with 'rmsprop' optimizer, 'binary_crossentropy' loss function, and 'accuracy' metric\n",
    "    model3.compile(optimizer='rmsprop', loss='binary_crossentropy', metrics=['accuracy'])\n",
    "\n",
    "    # Return the model\n",
    "    return model3\n"
   ]
  },
  {
   "cell_type": "code",
   "execution_count": 31,
   "id": "2a531e23",
   "metadata": {
    "execution": {
     "iopub.execute_input": "2023-06-25T04:52:47.904719Z",
     "iopub.status.busy": "2023-06-25T04:52:47.903556Z",
     "iopub.status.idle": "2023-06-25T04:52:47.922344Z",
     "shell.execute_reply": "2023-06-25T04:52:47.921533Z"
    },
    "papermill": {
     "duration": 0.069011,
     "end_time": "2023-06-25T04:52:47.924839",
     "exception": false,
     "start_time": "2023-06-25T04:52:47.855828",
     "status": "completed"
    },
    "tags": []
   },
   "outputs": [],
   "source": [
    "# Create a RandomSearch tuner\n",
    "tuner3 = kt.RandomSearch(\n",
    "    build_model3,\n",
    "    objective='val_accuracy',  # Define the objective to optimize\n",
    "    max_trials=5,  # Maximum number of hyperparameter combinations to try\n",
    "    directory='mydir',\n",
    "    project_name='num_layers')"
   ]
  },
  {
   "cell_type": "code",
   "execution_count": 32,
   "id": "4ee926fc",
   "metadata": {
    "execution": {
     "iopub.execute_input": "2023-06-25T04:52:48.018542Z",
     "iopub.status.busy": "2023-06-25T04:52:48.017828Z",
     "iopub.status.idle": "2023-06-25T04:53:00.225497Z",
     "shell.execute_reply": "2023-06-25T04:53:00.224152Z"
    },
    "papermill": {
     "duration": 12.257509,
     "end_time": "2023-06-25T04:53:00.228013",
     "exception": false,
     "start_time": "2023-06-25T04:52:47.970504",
     "status": "completed"
    },
    "tags": []
   },
   "outputs": [
    {
     "name": "stdout",
     "output_type": "stream",
     "text": [
      "Trial 5 Complete [00h 00m 02s]\n",
      "val_accuracy: 0.7922077775001526\n",
      "\n",
      "Best val_accuracy So Far: 0.8116883039474487\n",
      "Total elapsed time: 00h 00m 12s\n"
     ]
    }
   ],
   "source": [
    "tuner3.search(X_train,y_train,epochs=5,validation_data=(X_test,y_test))"
   ]
  },
  {
   "cell_type": "code",
   "execution_count": 33,
   "id": "f530eac1",
   "metadata": {
    "execution": {
     "iopub.execute_input": "2023-06-25T04:53:00.323875Z",
     "iopub.status.busy": "2023-06-25T04:53:00.323451Z",
     "iopub.status.idle": "2023-06-25T04:53:00.330362Z",
     "shell.execute_reply": "2023-06-25T04:53:00.329366Z"
    },
    "papermill": {
     "duration": 0.057191,
     "end_time": "2023-06-25T04:53:00.332698",
     "exception": false,
     "start_time": "2023-06-25T04:53:00.275507",
     "status": "completed"
    },
    "tags": []
   },
   "outputs": [
    {
     "data": {
      "text/plain": [
       "{'num_layers': 6}"
      ]
     },
     "execution_count": 33,
     "metadata": {},
     "output_type": "execute_result"
    }
   ],
   "source": [
    "tuner3.get_best_hyperparameters()[0].values"
   ]
  },
  {
   "cell_type": "code",
   "execution_count": 34,
   "id": "f0fd94d3",
   "metadata": {
    "execution": {
     "iopub.execute_input": "2023-06-25T04:53:00.427876Z",
     "iopub.status.busy": "2023-06-25T04:53:00.427449Z",
     "iopub.status.idle": "2023-06-25T04:53:00.787490Z",
     "shell.execute_reply": "2023-06-25T04:53:00.786186Z"
    },
    "papermill": {
     "duration": 0.410738,
     "end_time": "2023-06-25T04:53:00.790261",
     "exception": false,
     "start_time": "2023-06-25T04:53:00.379523",
     "status": "completed"
    },
    "tags": []
   },
   "outputs": [],
   "source": [
    "model3=tuner3.get_best_models(num_models=1)[0]"
   ]
  },
  {
   "cell_type": "markdown",
   "id": "760323db",
   "metadata": {
    "papermill": {
     "duration": 0.04631,
     "end_time": "2023-06-25T04:53:00.882759",
     "exception": false,
     "start_time": "2023-06-25T04:53:00.836449",
     "status": "completed"
    },
    "tags": []
   },
   "source": [
    "## All in One Model"
   ]
  },
  {
   "cell_type": "code",
   "execution_count": 35,
   "id": "93de3c9a",
   "metadata": {
    "execution": {
     "iopub.execute_input": "2023-06-25T04:53:00.977293Z",
     "iopub.status.busy": "2023-06-25T04:53:00.976910Z",
     "iopub.status.idle": "2023-06-25T04:53:00.990384Z",
     "shell.execute_reply": "2023-06-25T04:53:00.989293Z"
    },
    "papermill": {
     "duration": 0.063349,
     "end_time": "2023-06-25T04:53:00.992609",
     "exception": false,
     "start_time": "2023-06-25T04:53:00.929260",
     "status": "completed"
    },
    "tags": []
   },
   "outputs": [],
   "source": [
    "# Define a function to build a model with hyperparameters\n",
    "def build_model(hp):\n",
    "    # Create a sequential model\n",
    "    model = Sequential()\n",
    "    \n",
    "    # Counter variable to keep track of the layers\n",
    "    counter = 0\n",
    "\n",
    "    # Loop to add a variable number of dense layers based on the hyperparameter 'num_layers'\n",
    "    for i in range(hp.Int('num_layers', min_value=1, max_value=10)):\n",
    "        if counter == 0:\n",
    "            # For the first layer, specify the 'input_dim' parameter\n",
    "            model.add(Dense(\n",
    "                hp.Int('units' + str(i), min_value=8, max_value=128, step=8),\n",
    "                activation=hp.Choice('activation' + str(i), values=['relu', 'tanh', 'sigmoid']),\n",
    "                input_dim=8))\n",
    "            # Add dropout layer\n",
    "            model.add(Dropout(hp.Choice('dropout'+ str(i),values=[0.1,0.2,0.3,0.4,0.5,0.6,0.7,0.8,0.9])))\n",
    "        else:\n",
    "            # For subsequent layers, omit the 'input_dim' parameter\n",
    "            model.add(Dense(\n",
    "                hp.Int('units' + str(i), min_value=8, max_value=128, step=8),\n",
    "                activation=hp.Choice('activation' + str(i), values=['relu', 'tanh', 'sigmoid'])\n",
    "            ))\n",
    "            # Add dropout layer\n",
    "            model.add(Dropout(hp.Choice('dropout'+ str(i),values=[0.1,0.2,0.3,0.4,0.5,0.6,0.7,0.8,0.9])))\n",
    "\n",
    "        # Increment the counter\n",
    "        counter += 1\n",
    "\n",
    "    # Add the final dense layer with sigmoid activation\n",
    "    model.add(Dense(1, activation='sigmoid'))\n",
    "\n",
    "    # Compile the model with a choice of optimizer, loss function, and metrics\n",
    "    model.compile(\n",
    "        optimizer=hp.Choice('optimizer', values=['rmsprop', 'adam', 'sgd', 'nadam', 'adadelta']),\n",
    "        loss='binary_crossentropy',\n",
    "        metrics=['accuracy']\n",
    "    )\n",
    "\n",
    "    # Return the model\n",
    "    return model\n"
   ]
  },
  {
   "cell_type": "code",
   "execution_count": 36,
   "id": "0f56dbeb",
   "metadata": {
    "execution": {
     "iopub.execute_input": "2023-06-25T04:53:01.086573Z",
     "iopub.status.busy": "2023-06-25T04:53:01.086167Z",
     "iopub.status.idle": "2023-06-25T04:53:01.145423Z",
     "shell.execute_reply": "2023-06-25T04:53:01.144383Z"
    },
    "papermill": {
     "duration": 0.109128,
     "end_time": "2023-06-25T04:53:01.147994",
     "exception": false,
     "start_time": "2023-06-25T04:53:01.038866",
     "status": "completed"
    },
    "tags": []
   },
   "outputs": [],
   "source": [
    "# Create a RandomSearch tuner\n",
    "tuner = kt.RandomSearch(\n",
    "    build_model,\n",
    "    objective='val_accuracy',  # Define the objective to optimize\n",
    "    max_trials=5,  # Maximum number of hyperparameter combinations to try\n",
    "    directory='mydir',\n",
    "    project_name='final_model1')"
   ]
  },
  {
   "cell_type": "code",
   "execution_count": 37,
   "id": "99eac81e",
   "metadata": {
    "execution": {
     "iopub.execute_input": "2023-06-25T04:53:01.241834Z",
     "iopub.status.busy": "2023-06-25T04:53:01.241414Z",
     "iopub.status.idle": "2023-06-25T04:53:16.341863Z",
     "shell.execute_reply": "2023-06-25T04:53:16.340718Z"
    },
    "papermill": {
     "duration": 15.150329,
     "end_time": "2023-06-25T04:53:16.344315",
     "exception": false,
     "start_time": "2023-06-25T04:53:01.193986",
     "status": "completed"
    },
    "tags": []
   },
   "outputs": [
    {
     "name": "stdout",
     "output_type": "stream",
     "text": [
      "Trial 5 Complete [00h 00m 02s]\n",
      "val_accuracy: 0.8116883039474487\n",
      "\n",
      "Best val_accuracy So Far: 0.8116883039474487\n",
      "Total elapsed time: 00h 00m 15s\n"
     ]
    }
   ],
   "source": [
    "tuner.search(X_train,y_train,epochs=5,validation_data=(X_test,y_test))"
   ]
  },
  {
   "cell_type": "code",
   "execution_count": 38,
   "id": "b1c8edb8",
   "metadata": {
    "execution": {
     "iopub.execute_input": "2023-06-25T04:53:16.440571Z",
     "iopub.status.busy": "2023-06-25T04:53:16.440172Z",
     "iopub.status.idle": "2023-06-25T04:53:16.449369Z",
     "shell.execute_reply": "2023-06-25T04:53:16.448052Z"
    },
    "papermill": {
     "duration": 0.060364,
     "end_time": "2023-06-25T04:53:16.451903",
     "exception": false,
     "start_time": "2023-06-25T04:53:16.391539",
     "status": "completed"
    },
    "tags": []
   },
   "outputs": [
    {
     "data": {
      "text/plain": [
       "{'num_layers': 1,\n",
       " 'units0': 88,\n",
       " 'activation0': 'tanh',\n",
       " 'dropout0': 0.6,\n",
       " 'optimizer': 'nadam',\n",
       " 'units1': 64,\n",
       " 'activation1': 'sigmoid',\n",
       " 'dropout1': 0.1,\n",
       " 'units2': 32,\n",
       " 'activation2': 'tanh',\n",
       " 'dropout2': 0.9,\n",
       " 'units3': 56,\n",
       " 'activation3': 'relu',\n",
       " 'dropout3': 0.2,\n",
       " 'units4': 24,\n",
       " 'activation4': 'relu',\n",
       " 'dropout4': 0.1,\n",
       " 'units5': 56,\n",
       " 'activation5': 'relu',\n",
       " 'dropout5': 0.6,\n",
       " 'units6': 64,\n",
       " 'activation6': 'sigmoid',\n",
       " 'dropout6': 0.7,\n",
       " 'units7': 64,\n",
       " 'activation7': 'relu',\n",
       " 'dropout7': 0.6}"
      ]
     },
     "execution_count": 38,
     "metadata": {},
     "output_type": "execute_result"
    }
   ],
   "source": [
    "tuner.get_best_hyperparameters()[0].values"
   ]
  },
  {
   "cell_type": "markdown",
   "id": "4d4c4b48",
   "metadata": {
    "papermill": {
     "duration": 0.046668,
     "end_time": "2023-06-25T04:53:16.545323",
     "exception": false,
     "start_time": "2023-06-25T04:53:16.498655",
     "status": "completed"
    },
    "tags": []
   },
   "source": [
    "#### for this run we got output:\n",
    "{'num_layers': 6,\n",
    " 'units0': 72,\n",
    " 'activation0': 'tanh',\n",
    " 'dropout0': 0.8,\n",
    " 'optimizer': 'rmsprop',\n",
    " 'units1': 72,\n",
    " 'activation1': 'tanh',\n",
    " 'dropout1': 0.9,\n",
    " 'units2': 48,\n",
    " 'activation2': 'tanh',\n",
    " 'dropout2': 0.9,\n",
    " 'units3': 72,\n",
    " 'activation3': 'relu',\n",
    " 'dropout3': 0.4,\n",
    " 'units4': 8,\n",
    " 'activation4': 'relu',\n",
    " 'dropout4': 0.5,\n",
    " 'units5': 48,\n",
    " 'activation5': 'relu',\n",
    " 'dropout5': 0.7,\n",
    " 'units6': 16,\n",
    " 'activation6': 'relu',\n",
    " 'dropout6': 0.2,\n",
    " 'units7': 88,\n",
    " 'activation7': 'sigmoid',\n",
    " 'dropout7': 0.5,\n",
    " 'units8': 48,\n",
    " 'activation8': 'tanh',\n",
    " 'dropout8': 0.4,\n",
    " 'units9': 88,\n",
    " 'activation9': 'relu',\n",
    " 'dropout9': 0.9}\n"
   ]
  },
  {
   "cell_type": "markdown",
   "id": "542a7d0e",
   "metadata": {
    "papermill": {
     "duration": 0.046456,
     "end_time": "2023-06-25T04:53:16.638641",
     "exception": false,
     "start_time": "2023-06-25T04:53:16.592185",
     "status": "completed"
    },
    "tags": []
   },
   "source": [
    "#### Explaination"
   ]
  },
  {
   "cell_type": "markdown",
   "id": "c8497634",
   "metadata": {
    "papermill": {
     "duration": 0.046322,
     "end_time": "2023-06-25T04:53:16.731853",
     "exception": false,
     "start_time": "2023-06-25T04:53:16.685531",
     "status": "completed"
    },
    "tags": []
   },
   "source": [
    "'num_layers': 6: This indicates that the best model has 6 hidden layers.\n",
    "For each layer (0 to 9, although only some are present in the provided output):\n",
    "\n",
    "'units0': 72, 'units1': 72, 'units2': 48, 'units3': 72, 'units4': 8, 'units5': 48, 'units6': 16, 'units7': 88, 'units8': 48, 'units9': 88: These specify the number of units (neurons) in each respective layer.\n",
    "\n",
    "'activation0': 'tanh', 'activation1': 'tanh', 'activation2': 'tanh', 'activation3': 'relu', 'activation4': 'relu', 'activation5': 'relu', 'activation6': 'relu', 'activation7': 'sigmoid', 'activation8': 'tanh', 'activation9': 'relu': These indicate the activation function used for each respective layer.\n",
    "\n",
    "'dropout0': 0.8, 'dropout1': 0.9, 'dropout2': 0.9, 'dropout3': 0.4, 'dropout4': 0.5, 'dropout5': 0.7, 'dropout6': 0.2, 'dropout7': 0.5, 'dropout8': 0.4, 'dropout9': 0.9: These represent the dropout rates applied to each respective layer. Dropout is a regularization technique used to prevent overfitting by randomly dropping out a fraction of the units during training.\n",
    "\n",
    "'optimizer': 'rmsprop': This indicates that the RMSprop optimizer was selected for training the model. RMSprop is an optimization algorithm commonly used for deep learning."
   ]
  },
  {
   "cell_type": "code",
   "execution_count": 39,
   "id": "db93df38",
   "metadata": {
    "execution": {
     "iopub.execute_input": "2023-06-25T04:53:16.826871Z",
     "iopub.status.busy": "2023-06-25T04:53:16.826447Z",
     "iopub.status.idle": "2023-06-25T04:53:17.241840Z",
     "shell.execute_reply": "2023-06-25T04:53:17.240865Z"
    },
    "papermill": {
     "duration": 0.466131,
     "end_time": "2023-06-25T04:53:17.244496",
     "exception": false,
     "start_time": "2023-06-25T04:53:16.778365",
     "status": "completed"
    },
    "tags": []
   },
   "outputs": [],
   "source": [
    "model=tuner.get_best_models(num_models=1)[0]"
   ]
  },
  {
   "cell_type": "code",
   "execution_count": 40,
   "id": "a7fabd59",
   "metadata": {
    "execution": {
     "iopub.execute_input": "2023-06-25T04:53:17.339381Z",
     "iopub.status.busy": "2023-06-25T04:53:17.338980Z",
     "iopub.status.idle": "2023-06-25T04:53:17.427380Z",
     "shell.execute_reply": "2023-06-25T04:53:17.426404Z"
    },
    "papermill": {
     "duration": 0.138601,
     "end_time": "2023-06-25T04:53:17.429769",
     "exception": false,
     "start_time": "2023-06-25T04:53:17.291168",
     "status": "completed"
    },
    "tags": []
   },
   "outputs": [
    {
     "data": {
      "text/plain": [
       "<keras.callbacks.History at 0x7a51fd430af0>"
      ]
     },
     "execution_count": 40,
     "metadata": {},
     "output_type": "execute_result"
    }
   ],
   "source": [
    "model.fit(X_train,y_train,batch_size=32,initial_epoch=6,validation_data=(X_test,y_test))"
   ]
  },
  {
   "cell_type": "code",
   "execution_count": null,
   "id": "5f94758f",
   "metadata": {
    "papermill": {
     "duration": 0.046481,
     "end_time": "2023-06-25T04:53:17.523446",
     "exception": false,
     "start_time": "2023-06-25T04:53:17.476965",
     "status": "completed"
    },
    "tags": []
   },
   "outputs": [],
   "source": []
  }
 ],
 "metadata": {
  "kernelspec": {
   "display_name": "Python 3",
   "language": "python",
   "name": "python3"
  },
  "language_info": {
   "codemirror_mode": {
    "name": "ipython",
    "version": 3
   },
   "file_extension": ".py",
   "mimetype": "text/x-python",
   "name": "python",
   "nbconvert_exporter": "python",
   "pygments_lexer": "ipython3",
   "version": "3.10.10"
  },
  "papermill": {
   "default_parameters": {},
   "duration": 83.78413,
   "end_time": "2023-06-25T04:53:20.917071",
   "environment_variables": {},
   "exception": null,
   "input_path": "__notebook__.ipynb",
   "output_path": "__notebook__.ipynb",
   "parameters": {},
   "start_time": "2023-06-25T04:51:57.132941",
   "version": "2.4.0"
  }
 },
 "nbformat": 4,
 "nbformat_minor": 5
}
